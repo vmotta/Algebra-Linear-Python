{
  "nbformat": 4,
  "nbformat_minor": 0,
  "metadata": {
    "colab": {
      "name": "Protobuf_to_TensorBoard",
      "version": "0.3.2",
      "provenance": [],
      "collapsed_sections": [],
      "include_colab_link": true
    },
    "kernelspec": {
      "name": "python3",
      "display_name": "Python 3"
    }
  },
  "cells": [
    {
      "cell_type": "markdown",
      "metadata": {
        "id": "view-in-github",
        "colab_type": "text"
      },
      "source": [
        "<a href=\"https://colab.research.google.com/github/vmotta/Algebra-Linear-Python/blob/master/Protobuf_to_TensorBoard.ipynb\" target=\"_parent\"><img src=\"https://colab.research.google.com/assets/colab-badge.svg\" alt=\"Open In Colab\"/></a>"
      ]
    },
    {
      "cell_type": "markdown",
      "metadata": {
        "id": "mGYaE4KB-zli",
        "colab_type": "text"
      },
      "source": [
        "Importa o modelo com o nome *frozen_model.pb* para dentro do Colab e abre o TensorBoard com o grafo do TensorFlow. "
      ]
    },
    {
      "cell_type": "code",
      "metadata": {
        "id": "AZwLa6pW1Ayr",
        "colab_type": "code",
        "colab": {}
      },
      "source": [
        "from google.colab import files\n",
        "uploaded = files.upload()\n",
        "\n",
        "import tensorflow as tf\n",
        "from tensorflow.python.platform import gfile\n",
        "with tf.Session() as sess:\n",
        "    model_filename ='/content/frozen_model.pb'\n",
        "    with gfile.FastGFile(model_filename, 'rb') as f:\n",
        "        graph_def = tf.GraphDef()\n",
        "        graph_def.ParseFromString(f.read())\n",
        "        g_in = tf.import_graph_def(graph_def)\n",
        "LOGDIR='/content/logs'\n",
        "train_writer = tf.summary.FileWriter(LOGDIR)\n",
        "train_writer.add_graph(sess.graph)\n",
        "\n",
        "%load_ext tensorboard\n",
        "%tensorboard --logdir ./logs"
      ],
      "execution_count": 0,
      "outputs": []
    }
  ]
}