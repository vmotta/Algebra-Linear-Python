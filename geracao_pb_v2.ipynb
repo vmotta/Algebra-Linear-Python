{
  "nbformat": 4,
  "nbformat_minor": 0,
  "metadata": {
    "colab": {
      "name": "geracao_pb_v2.ipynb",
      "version": "0.3.2",
      "provenance": [],
      "collapsed_sections": [],
      "include_colab_link": true
    },
    "kernelspec": {
      "name": "python3",
      "display_name": "Python 3"
    }
  },
  "cells": [
    {
      "cell_type": "markdown",
      "metadata": {
        "id": "view-in-github",
        "colab_type": "text"
      },
      "source": [
        "<a href=\"https://colab.research.google.com/github/vmotta/Algebra-Linear-Python/blob/master/geracao_pb_v2.ipynb\" target=\"_parent\"><img src=\"https://colab.research.google.com/assets/colab-badge.svg\" alt=\"Open In Colab\"/></a>"
      ]
    },
    {
      "cell_type": "code",
      "metadata": {
        "id": "CNqRYuHQSDvi",
        "colab_type": "code",
        "colab": {
          "base_uri": "https://localhost:8080/",
          "height": 136
        },
        "outputId": "35ab35b6-b001-4bb8-d3b1-0e5f964da422"
      },
      "source": [
        "# Instalar o tensor para uso no colab \n",
        "!pip install -q tf-nightly-2.0-preview\n",
        "# Carregar o TensorBoard notebook extension\n",
        "%load_ext tensorboard\n",
        "#Importar o Tensorboard\n",
        "import tensorflow as tf\n",
        "import numpy as np\n",
        "import os\n",
        "import time\n",
        "import datetime\n",
        "\n",
        "#função para converter .pbtxt para .pb que e a entrada do bloco do labview\n",
        "def pbtxt_to_graphdef(filename,save_dir,filename2):\n",
        "    with open(filename, 'r') as f:\n",
        "        graph_def = tf.GraphDef()\n",
        "        file_content = f.read()\n",
        "        text_format.Merge(file_content, graph_def)\n",
        "        tf.import_graph_def(graph_def, name='')\n",
        "        tf.train.write_graph(graph_def, save_dir+'pbtxt/', filename2+'.pb', as_text=False)\n",
        "        \n",
        "# Para limpar as definições de variáveis e operações do grafo do tensorflow\n",
        "tf.reset_default_graph()          \n",
        "\n",
        "#criação da base de dados\n",
        "x=np.array([[0,0],[0,1],[1,0],[1,1]])#atributos previsores\n",
        "y=np.array([[0],[1],[1],[0]])#atributis da classe\n",
        "\n",
        "#definição das camadas\n",
        "neuronios_entrada = 2\n",
        "neuronios_oculta = 3\n",
        "neuronios_saida = 1\n",
        "\n",
        "#criação dos pesos das camadas de forma aleatória\n",
        "w = {'oculta' : tf.Variable(tf.random_normal([neuronios_entrada, neuronios_oculta]), name='w_oculta'),\n",
        "    'saida': tf.Variable(tf.random_normal([neuronios_oculta,neuronios_saida]), name='w_saida')}\n",
        "\n",
        "#criação dos bias das camadas de forma aleatória\n",
        "b = {'oculta' : tf.Variable(tf.random_normal([neuronios_oculta]), name='b_oculta'),\n",
        "    'saida': tf.Variable(tf.random_normal([neuronios_saida]), name='b_saida')}\n",
        "\n",
        "#criação dos placesholders\n",
        "xph = tf.placeholder(tf.float32,[4, neuronios_entrada], name='xph')\n",
        "yph = tf.placeholder(tf.float32,[4, neuronios_saida], name='yph')\n",
        "\n",
        "#formulas\n",
        "camada_oculta = tf.add(tf.matmul(xph,w['oculta']),b['oculta'])\n",
        "camada_oculta_ativacao = tf.sigmoid(camada_oculta)\n",
        "camada_saida = tf.add(tf.matmul(camada_oculta_ativacao, w['saida']),b['saida'])\n",
        "camada_saida_ativacao = tf.sigmoid(camada_saida)\n",
        "erro = tf.losses.mean_squared_error(yph, camada_saida_ativacao)\n",
        "otimizador = tf.train.GradientDescentOptimizer(learning_rate=0.1).minimize(erro)\n"
      ],
      "execution_count": 3,
      "outputs": [
        {
          "output_type": "stream",
          "text": [
            "\u001b[K     |████████████████████████████████| 80.1MB 42.6MB/s \n",
            "\u001b[K     |████████████████████████████████| 3.2MB 36.2MB/s \n",
            "\u001b[K     |████████████████████████████████| 450kB 41.6MB/s \n",
            "\u001b[K     |████████████████████████████████| 61kB 21.8MB/s \n",
            "\u001b[?25h  Building wheel for opt-einsum (setup.py) ... \u001b[?25l\u001b[?25hdone\n",
            "The tensorboard extension is already loaded. To reload it, use:\n",
            "  %reload_ext tensorboard\n"
          ],
          "name": "stdout"
        }
      ]
    }
  ]
}