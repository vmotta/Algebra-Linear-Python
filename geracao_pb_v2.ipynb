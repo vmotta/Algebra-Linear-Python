{
  "nbformat": 4,
  "nbformat_minor": 0,
  "metadata": {
    "colab": {
      "name": "geracao_pb_v2.ipynb",
      "version": "0.3.2",
      "provenance": [],
      "include_colab_link": true
    },
    "kernelspec": {
      "name": "python3",
      "display_name": "Python 3"
    }
  },
  "cells": [
    {
      "cell_type": "markdown",
      "metadata": {
        "id": "view-in-github",
        "colab_type": "text"
      },
      "source": [
        "<a href=\"https://colab.research.google.com/github/vmotta/Algebra-Linear-Python/blob/master/geracao_pb_v2.ipynb\" target=\"_parent\"><img src=\"https://colab.research.google.com/assets/colab-badge.svg\" alt=\"Open In Colab\"/></a>"
      ]
    },
    {
      "cell_type": "code",
      "metadata": {
        "id": "CNqRYuHQSDvi",
        "colab_type": "code",
        "colab": {
          "base_uri": "https://localhost:8080/",
          "height": 136
        },
        "outputId": "35ab35b6-b001-4bb8-d3b1-0e5f964da422"
      },
      "source": [
        "# Instalar o tensor para uso no colab \n",
        "!pip install -q tf-nightly-2.0-preview\n",
        "# Carregar o TensorBoard notebook extension\n",
        "%load_ext tensorboard\n",
        "#Importar o Tensorboard\n",
        "import tensorflow as tf\n",
        "\n",
        "#função para converter .pbtxt para .pb que e a entrada do bloco do labview\n",
        "def pbtxt_to_graphdef(filename,save_dir,filename2):\n",
        "    with open(filename, 'r') as f:\n",
        "        graph_def = tf.GraphDef()\n",
        "        file_content = f.read()\n",
        "        text_format.Merge(file_content, graph_def)\n",
        "        tf.import_graph_def(graph_def, name='')\n",
        "        tf.train.write_graph(graph_def, save_dir+'pbtxt/', filename2+'.pb', as_text=False)\n",
        "        \n",
        "# Para limpar as definições de variáveis e operações do grafo do tensorflow\n",
        "tf.reset_default_graph()          "
      ],
      "execution_count": 3,
      "outputs": [
        {
          "output_type": "stream",
          "text": [
            "\u001b[K     |████████████████████████████████| 80.1MB 42.6MB/s \n",
            "\u001b[K     |████████████████████████████████| 3.2MB 36.2MB/s \n",
            "\u001b[K     |████████████████████████████████| 450kB 41.6MB/s \n",
            "\u001b[K     |████████████████████████████████| 61kB 21.8MB/s \n",
            "\u001b[?25h  Building wheel for opt-einsum (setup.py) ... \u001b[?25l\u001b[?25hdone\n",
            "The tensorboard extension is already loaded. To reload it, use:\n",
            "  %reload_ext tensorboard\n"
          ],
          "name": "stdout"
        }
      ]
    }
  ]
}