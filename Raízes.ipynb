{
  "nbformat": 4,
  "nbformat_minor": 0,
  "metadata": {
    "colab": {
      "name": "Raízes.ipynb",
      "version": "0.3.2",
      "provenance": [],
      "collapsed_sections": [],
      "include_colab_link": true
    },
    "kernelspec": {
      "name": "python3",
      "display_name": "Python 3"
    }
  },
  "cells": [
    {
      "cell_type": "markdown",
      "metadata": {
        "id": "view-in-github",
        "colab_type": "text"
      },
      "source": [
        "<a href=\"https://colab.research.google.com/github/vmotta/Algebra-Linear-Python/blob/master/Ra%C3%ADzes.ipynb\" target=\"_parent\"><img src=\"https://colab.research.google.com/assets/colab-badge.svg\" alt=\"Open In Colab\"/></a>"
      ]
    },
    {
      "cell_type": "code",
      "metadata": {
        "id": "3ohTvBmqfNH1",
        "colab_type": "code",
        "colab": {}
      },
      "source": [
        "from math import pi\n",
        "from cmath import sqrt"
      ],
      "execution_count": 0,
      "outputs": []
    },
    {
      "cell_type": "code",
      "metadata": {
        "id": "BDO8rBmBfd-6",
        "colab_type": "code",
        "colab": {
          "base_uri": "https://localhost:8080/",
          "height": 68
        },
        "outputId": "f148645a-a720-4be6-8a27-eb0d7780507d"
      },
      "source": [
        "#digitar os coeficientes da função\n",
        "a = float(input('Digite o coeficeiente a:'))\n",
        "b = float(input('Digite o coeficeiente b:'))\n",
        "c = float(input('Digite o coeficeiente c:'))"
      ],
      "execution_count": 3,
      "outputs": [
        {
          "output_type": "stream",
          "text": [
            "Digite o coeficeiente a:10\n",
            "Digite o coeficeiente b:10\n",
            "Digite o coeficeiente c:10\n"
          ],
          "name": "stdout"
        }
      ]
    },
    {
      "cell_type": "code",
      "metadata": {
        "id": "9eTCc2c4fv_E",
        "colab_type": "code",
        "colab": {
          "base_uri": "https://localhost:8080/",
          "height": 34
        },
        "outputId": "4b580fa6-c3cf-4629-b618-c388134af644"
      },
      "source": [
        "def raizes(a,b,c):\n",
        "    delta = b**2 + 4 * a * c\n",
        "    x1 = (-b + sqrt(delta))/(2*a)\n",
        "    x2 = (-b - sqrt(delta))/(2*a)\n",
        "    return x1, x2\n",
        "\n",
        "print(raizes(a,b,c))"
      ],
      "execution_count": 4,
      "outputs": [
        {
          "output_type": "stream",
          "text": [
            "((0.6180339887498949+0j), (-1.618033988749895+0j))\n"
          ],
          "name": "stdout"
        }
      ]
    }
  ]
}