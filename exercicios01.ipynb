{
  "nbformat": 4,
  "nbformat_minor": 0,
  "metadata": {
    "colab": {
      "name": "exercicios01.ipynb",
      "provenance": [],
      "authorship_tag": "ABX9TyNzGYZ2oXAiz46JAV23wQUo",
      "include_colab_link": true
    },
    "kernelspec": {
      "name": "python3",
      "display_name": "Python 3"
    }
  },
  "cells": [
    {
      "cell_type": "markdown",
      "metadata": {
        "id": "view-in-github",
        "colab_type": "text"
      },
      "source": [
        "<a href=\"https://colab.research.google.com/github/vmotta/Python/blob/master/exercicios01.ipynb\" target=\"_parent\"><img src=\"https://colab.research.google.com/assets/colab-badge.svg\" alt=\"Open In Colab\"/></a>"
      ]
    },
    {
      "cell_type": "markdown",
      "metadata": {
        "id": "93e1mBlmf9v6"
      },
      "source": [
        "Presuma que uma geladeira é vendida nas lojas A e B. O preço na loja A é R$ 190,00 mais alto que na loja B. Se a loja A oferecer um desconto de 5%, os preços nas duas lojas serão iguais. Se X representa o preço da geladeira na loja B, em reais, então o preço da geladeira será:"
      ]
    },
    {
      "cell_type": "code",
      "metadata": {
        "colab": {
          "base_uri": "https://localhost:8080/"
        },
        "id": "1gA7gigjf4l-",
        "outputId": "0dee6472-67c6-4f50-c18f-553ba6d625fc"
      },
      "source": [
        "# PGA - PGB =  190\r\n",
        "# (0.95) * PGA - PGB = 0\r\n",
        "import numpy as np\r\n",
        "from sympy import *\r\n",
        "from sympy.solvers.solveset import linsolve\r\n",
        "x, y = symbols('x, y')\r\n",
        "\r\n",
        "linsolve(Matrix(([1, -1, 190], [0.95, -1, 0])), (x, y))"
      ],
      "execution_count": 2,
      "outputs": [
        {
          "output_type": "execute_result",
          "data": {
            "text/plain": [
              "{(3800.0, 3610.0)}"
            ]
          },
          "metadata": {
            "tags": []
          },
          "execution_count": 2
        }
      ]
    },
    {
      "cell_type": "markdown",
      "metadata": {
        "id": "51VNMQWtga3Y"
      },
      "source": [
        "No cálculo dos juros compostos também é necessário utilizar logaritmos para se descobrir o tempo em que uma aplicação rende determinado juro, a partir da fórmula: M = C ( 1 + i ) ^n\r\n",
        "\r\n",
        "Em que M é o montante (capital + juros), C é o capital, i é a taxa de juros e n é o tempo.\r\n",
        "\r\n",
        "Suponhamos que R\\$ 2.000,00 uma determinada aplicação financeira produza juros compostos de R\\$ 600,00, a uma taxa 1,5% ao mês. Qual o tempo necessário para obter um montante de R$ 2.600,00."
      ]
    },
    {
      "cell_type": "code",
      "metadata": {
        "colab": {
          "base_uri": "https://localhost:8080/"
        },
        "id": "qdsJCVgdgNyT",
        "outputId": "cdae662d-a5d9-4cbc-dc02-e5fe65b35d68"
      },
      "source": [
        "M = 2600\r\n",
        "C = 2000\r\n",
        "i = 1.5\r\n",
        "p = M/C\r\n",
        "p"
      ],
      "execution_count": null,
      "outputs": [
        {
          "output_type": "execute_result",
          "data": {
            "text/plain": [
              "1.3"
            ]
          },
          "metadata": {
            "tags": []
          },
          "execution_count": 18
        }
      ]
    },
    {
      "cell_type": "code",
      "metadata": {
        "colab": {
          "base_uri": "https://localhost:8080/"
        },
        "id": "2nqalqUDxPvN",
        "outputId": "183c0b78-5950-4c97-86bb-dda3fa153e96"
      },
      "source": [
        "import math\r\n",
        "n = math.log(p)\r\n",
        "n"
      ],
      "execution_count": null,
      "outputs": [
        {
          "output_type": "execute_result",
          "data": {
            "text/plain": [
              "0.26236426446749106"
            ]
          },
          "metadata": {
            "tags": []
          },
          "execution_count": 19
        }
      ]
    },
    {
      "cell_type": "code",
      "metadata": {
        "colab": {
          "base_uri": "https://localhost:8080/"
        },
        "id": "NmwhBFiDx2ja",
        "outputId": "6298816b-8825-45ed-c81b-1bd71bd5e6cc"
      },
      "source": [
        "m = math.log(1+(1.5/100))\r\n",
        "m"
      ],
      "execution_count": null,
      "outputs": [
        {
          "output_type": "execute_result",
          "data": {
            "text/plain": [
              "0.014888612493750559"
            ]
          },
          "metadata": {
            "tags": []
          },
          "execution_count": 20
        }
      ]
    },
    {
      "cell_type": "code",
      "metadata": {
        "colab": {
          "base_uri": "https://localhost:8080/"
        },
        "id": "RIheUW8RzKVz",
        "outputId": "4867a94d-2a0f-4e06-8f3c-2770b4a25e9f"
      },
      "source": [
        "n/m"
      ],
      "execution_count": null,
      "outputs": [
        {
          "output_type": "execute_result",
          "data": {
            "text/plain": [
              "17.621807577947074"
            ]
          },
          "metadata": {
            "tags": []
          },
          "execution_count": 21
        }
      ]
    },
    {
      "cell_type": "code",
      "metadata": {
        "colab": {
          "base_uri": "https://localhost:8080/"
        },
        "id": "HSSa9FbFzd_h",
        "outputId": "4f85c75e-b804-4204-f200-926449a5ee9a"
      },
      "source": [
        "0.621807577947074*30"
      ],
      "execution_count": null,
      "outputs": [
        {
          "output_type": "execute_result",
          "data": {
            "text/plain": [
              "18.65422733841222"
            ]
          },
          "metadata": {
            "tags": []
          },
          "execution_count": 24
        }
      ]
    },
    {
      "cell_type": "markdown",
      "metadata": {
        "id": "Mc_XqiEpztdJ"
      },
      "source": [
        "Um veículo é vendido à vista por R$ 56.000,00 ou financiado em 24 parcelas mensais iguais, sem entrada.\r\n",
        "\r\n",
        "Sabendo que a loja cobra taxa de juros de 2,99% ao mês, calcule o valor de cada parcela.\r\n",
        "\r\n",
        "PV = PMT . (1 + i)^ n -1                    \r\n",
        "\r\n",
        "                            (1 + i)^ n . i"
      ]
    },
    {
      "cell_type": "code",
      "metadata": {
        "colab": {
          "base_uri": "https://localhost:8080/"
        },
        "id": "BNwcdbFazut6",
        "outputId": "8163f320-486b-4eba-916f-8d2214d54efb"
      },
      "source": [
        "PV=56000.00\r\n",
        "i=2.99/100\r\n",
        "i"
      ],
      "execution_count": null,
      "outputs": [
        {
          "output_type": "execute_result",
          "data": {
            "text/plain": [
              "0.029900000000000003"
            ]
          },
          "metadata": {
            "tags": []
          },
          "execution_count": 36
        }
      ]
    },
    {
      "cell_type": "code",
      "metadata": {
        "colab": {
          "base_uri": "https://localhost:8080/"
        },
        "id": "pIg8D4Xo0t_Q",
        "outputId": "8bb3f761-ab7b-4c4d-9db5-9ace96bacb92"
      },
      "source": [
        "p = (1+i)\r\n",
        "p = p**24\r\n",
        "p"
      ],
      "execution_count": null,
      "outputs": [
        {
          "output_type": "execute_result",
          "data": {
            "text/plain": [
              "2.028062783515791"
            ]
          },
          "metadata": {
            "tags": []
          },
          "execution_count": 37
        }
      ]
    },
    {
      "cell_type": "code",
      "metadata": {
        "colab": {
          "base_uri": "https://localhost:8080/"
        },
        "id": "1nKKiKyt0_Z4",
        "outputId": "d0d191a6-ab5d-4046-fcaf-75fbc64d87c2"
      },
      "source": [
        "PMT = (PV * (1 + i)**24 * i)/((1 + i)** 24 -1)\r\n",
        "PMT"
      ],
      "execution_count": null,
      "outputs": [
        {
          "output_type": "execute_result",
          "data": {
            "text/plain": [
              "3303.094304324344"
            ]
          },
          "metadata": {
            "tags": []
          },
          "execution_count": 38
        }
      ]
    },
    {
      "cell_type": "markdown",
      "metadata": {
        "id": "Tot9TSZl1i6-"
      },
      "source": [
        "Presuma que você realizou um investimento no valor de R$ 100.000,00 com taxa pré fixada de 10% no primeiro ano e 15% no segundo ano. Qual o valor do seu resgate ao final do período?"
      ]
    },
    {
      "cell_type": "code",
      "metadata": {
        "colab": {
          "base_uri": "https://localhost:8080/"
        },
        "id": "NPcR-c_f1kKG",
        "outputId": "4b29f8fe-9885-4f44-c359-825f8a75f693"
      },
      "source": [
        "C = 100000\r\n",
        "M1 = C + C * (10/100)\r\n",
        "C = M1\r\n",
        "M1"
      ],
      "execution_count": null,
      "outputs": [
        {
          "output_type": "execute_result",
          "data": {
            "text/plain": [
              "110000.0"
            ]
          },
          "metadata": {
            "tags": []
          },
          "execution_count": 41
        }
      ]
    },
    {
      "cell_type": "code",
      "metadata": {
        "colab": {
          "base_uri": "https://localhost:8080/"
        },
        "id": "BhQBxMFv124_",
        "outputId": "959fda73-60a6-4bbc-bae1-a8c30613a62b"
      },
      "source": [
        "M2 = C + C * (15/100)\r\n",
        "M2"
      ],
      "execution_count": null,
      "outputs": [
        {
          "output_type": "execute_result",
          "data": {
            "text/plain": [
              "126500.0"
            ]
          },
          "metadata": {
            "tags": []
          },
          "execution_count": 42
        }
      ]
    },
    {
      "cell_type": "markdown",
      "metadata": {
        "id": "HcWgNDqa2JI-"
      },
      "source": [
        "Wilson trabalha como vendedor numa concessionária de carros e seu ordenado é composto por duas partes. Uma parte é dada por um salário fixo de R\\$ 2.750,00, e outra é obtida a partir de uma comissão de R\\$ 1.550,00 para cada carro vendido por ele. Utilize a função afim para descrever o salário desse funcionário em função do número de carros vendidos por mês.\r\n",
        "\r\n",
        "Onde S(x) é o salário mensal do vendedor, e X representa o número de veículos vendidos mensalmente para o recebimento do salário.  S(x) = 1.550X + 2.750\r\n",
        "\r\n",
        "Para atingir um rendimento de R$ 150.000,00 Wilson terá que vender quantos carros?"
      ]
    },
    {
      "cell_type": "code",
      "metadata": {
        "id": "25Rkh8zR2Jkt"
      },
      "source": [
        "b = 2750.00\r\n",
        "m = 1550.00\r\n",
        "y = 150000.00"
      ],
      "execution_count": null,
      "outputs": []
    },
    {
      "cell_type": "code",
      "metadata": {
        "colab": {
          "base_uri": "https://localhost:8080/"
        },
        "id": "eJ0UCuBj2lx7",
        "outputId": "2733990b-ac66-4df1-eb8f-e145ff69f4c8"
      },
      "source": [
        "x=(y-b)/m  \r\n",
        "x"
      ],
      "execution_count": null,
      "outputs": [
        {
          "output_type": "execute_result",
          "data": {
            "text/plain": [
              "95.0"
            ]
          },
          "metadata": {
            "tags": []
          },
          "execution_count": 46
        }
      ]
    },
    {
      "cell_type": "markdown",
      "metadata": {
        "id": "_FGSlirl23WG"
      },
      "source": [
        "Presuma que você efetuou uma aplicação com taxa mensal (juros compostos) de 12% por um período de cinco meses. No final do período irá receber R$ 4.405,85. Qual foi o valor aplicado?\r\n",
        "\r\n",
        "PV=FV/(1+i)n"
      ]
    },
    {
      "cell_type": "code",
      "metadata": {
        "id": "lA1-mrog2_Hl"
      },
      "source": [
        "i=12/100\r\n",
        "n=5\r\n",
        "VF=4405.85"
      ],
      "execution_count": null,
      "outputs": []
    },
    {
      "cell_type": "code",
      "metadata": {
        "colab": {
          "base_uri": "https://localhost:8080/"
        },
        "id": "_3KFyQFM2_Kd",
        "outputId": "884e7e2e-ac85-408a-e772-cd36d1626a5c"
      },
      "source": [
        "PV=VF/(1+i)**n\r\n",
        "PV"
      ],
      "execution_count": null,
      "outputs": [
        {
          "output_type": "execute_result",
          "data": {
            "text/plain": [
              "2499.9976122677904"
            ]
          },
          "metadata": {
            "tags": []
          },
          "execution_count": 48
        }
      ]
    },
    {
      "cell_type": "markdown",
      "metadata": {
        "id": "TWFXvz9I3hMJ"
      },
      "source": [
        "Presuma que você comprou um veículo zero km por R$ 50.000,00. Ao longo de oito anos você  identificou duas desvalorizações, a primeira, após 5 anos de uso foi de 20% e a segunda, após 3 anos de uso foi de 30%.\r\n",
        "\r\n",
        "Qual o valor do seu veículo?"
      ]
    },
    {
      "cell_type": "code",
      "metadata": {
        "colab": {
          "base_uri": "https://localhost:8080/"
        },
        "id": "2XxlN60R23c2",
        "outputId": "149f5bd6-006b-4f8b-84fd-36da1f78f02f"
      },
      "source": [
        "VV= 50000.00\r\n",
        "V5 = 50000.00 * 80/100\r\n",
        "V3=V5 * 70/100\r\n",
        "V3"
      ],
      "execution_count": null,
      "outputs": [
        {
          "output_type": "execute_result",
          "data": {
            "text/plain": [
              "28000.0"
            ]
          },
          "metadata": {
            "tags": []
          },
          "execution_count": 51
        }
      ]
    },
    {
      "cell_type": "markdown",
      "metadata": {
        "id": "VjxHD5T64A3f"
      },
      "source": [
        "Um computador é vendido à vista por R$ 3.000,00 ou financiado em 24 parcelas mensais iguais, sem entrada. Sabendo que a loja cobra taxa de juros de 2,99% ao mês, calcule o valor de cada parcela.\r\n",
        "\r\n",
        "PV = PMT . (1 + i) n -1                    \r\n",
        "\r\n",
        "                          (1 + i) n . i"
      ]
    },
    {
      "cell_type": "code",
      "metadata": {
        "colab": {
          "base_uri": "https://localhost:8080/"
        },
        "id": "1u61U6mh4BSv",
        "outputId": "dcc961b9-8951-409e-f4ac-4db814c7b05b"
      },
      "source": [
        "PV = 3000\r\n",
        "n=24\r\n",
        "i=2.99/100\r\n",
        "PMT = (PV * (1 + i) ** n * i)/((1 + i) ** n -1)\r\n",
        "PMT"
      ],
      "execution_count": null,
      "outputs": [
        {
          "output_type": "execute_result",
          "data": {
            "text/plain": [
              "176.95148058880415"
            ]
          },
          "metadata": {
            "tags": []
          },
          "execution_count": 55
        }
      ]
    },
    {
      "cell_type": "markdown",
      "metadata": {
        "id": "mHgVLMRf5Gs-"
      },
      "source": [
        "A população de uma cidade era de 12.000 habitantes em 2010, tendo crescido 10% nos primeiros cinco anos e nos 5 anos seguintes 8% acumulativamente.\r\n",
        "\r\n",
        "Qual a população dessa cidade em 2020?"
      ]
    },
    {
      "cell_type": "code",
      "metadata": {
        "colab": {
          "base_uri": "https://localhost:8080/"
        },
        "id": "95s0v76Q5HPu",
        "outputId": "9ca714f6-005a-4f64-8499-bc0b642de4eb"
      },
      "source": [
        "P=12000\r\n",
        "P5=(P + P * 10/100) \r\n",
        "P5 = (P5 + P5 * 8/100)\r\n",
        "P5"
      ],
      "execution_count": null,
      "outputs": [
        {
          "output_type": "execute_result",
          "data": {
            "text/plain": [
              "14256.0"
            ]
          },
          "metadata": {
            "tags": []
          },
          "execution_count": 59
        }
      ]
    }
  ]
}